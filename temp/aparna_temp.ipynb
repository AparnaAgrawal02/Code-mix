{
 "cells": [
  {
   "cell_type": "code",
   "execution_count": 1,
   "metadata": {},
   "outputs": [
    {
     "name": "stderr",
     "output_type": "stream",
     "text": [
      "/home/aparna/miniconda3/lib/python3.10/site-packages/tqdm/auto.py:22: TqdmWarning: IProgress not found. Please update jupyter and ipywidgets. See https://ipywidgets.readthedocs.io/en/stable/user_install.html\n",
      "  from .autonotebook import tqdm as notebook_tqdm\n"
     ]
    },
    {
     "name": "stdout",
     "output_type": "stream",
     "text": [
      "<pad> <extra_id_0></s>\n"
     ]
    },
    {
     "name": "stderr",
     "output_type": "stream",
     "text": [
      "/home/aparna/miniconda3/lib/python3.10/site-packages/transformers/generation/utils.py:1273: UserWarning: Neither `max_length` nor `max_new_tokens` has been set, `max_length` will default to 20 (`generation_config.max_length`). Controlling `max_length` via the config is deprecated and `max_length` will be removed from the config in v5 of Transformers -- we recommend using `max_new_tokens` to control the maximum length of the generation.\n",
      "  warnings.warn(\n"
     ]
    }
   ],
   "source": [
    "#imort mt5 trasformer model \n",
    "from transformers import MT5ForConditionalGeneration, MT5Tokenizer\n",
    "#load model and tokenizer\n",
    "model = MT5ForConditionalGeneration.from_pretrained('google/mt5-small')\n",
    "tokenizer = MT5Tokenizer.from_pretrained('google/mt5-small')\n",
    "#input text\n",
    "text = \"translate English to German: I am a student\"\n",
    "#encode text\n",
    "input_ids = tokenizer.encode(text, return_tensors='pt')\n",
    "#generate output\n",
    "output = model.generate(input_ids)\n",
    "#decode output\n",
    "for i in output:\n",
    "    print(tokenizer.decode(i))\n"
   ]
  },
  {
   "cell_type": "code",
   "execution_count": 3,
   "metadata": {},
   "outputs": [
    {
     "name": "stderr",
     "output_type": "stream",
     "text": [
      "/home/aparna/miniconda3/lib/python3.10/site-packages/tqdm/auto.py:22: TqdmWarning: IProgress not found. Please update jupyter and ipywidgets. See https://ipywidgets.readthedocs.io/en/stable/user_install.html\n",
      "  from .autonotebook import tqdm as notebook_tqdm\n",
      "Found cached dataset opus100 (/home/aparna/.cache/huggingface/datasets/opus100/en-hi/0.0.0/256f3196b69901fb0c79810ef468e2c4ed84fbd563719920b1ff1fdc750f7704)\n"
     ]
    }
   ],
   "source": [
    "# import opus100 dataset\n",
    "from datasets import load_dataset\n",
    "dataset = load_dataset('opus100', 'en-hi', split='train')\n",
    "\n",
    "\n"
   ]
  },
  {
   "cell_type": "code",
   "execution_count": 4,
   "metadata": {},
   "outputs": [
    {
     "name": "stdout",
     "output_type": "stream",
     "text": [
      "{'translation': {'en': 'Other, Private Use', 'hi': 'अन्य, निज़ी उपयोग'}}\n"
     ]
    }
   ],
   "source": [
    "print(dataset[0])"
   ]
  },
  {
   "cell_type": "code",
   "execution_count": 25,
   "metadata": {},
   "outputs": [
    {
     "name": "stdout",
     "output_type": "stream",
     "text": [
      "Dataset({\n",
      "    features: ['translation'],\n",
      "    num_rows: 534319\n",
      "})\n"
     ]
    }
   ],
   "source": [
    "#ngrams (n,xi,yi) is set of unique n-grams in xi and yi\n",
    "import random\n",
    "def cummulative_ngrams(dataset ):\n",
    "    created_texts = []\n",
    "    ngrams ={}\n",
    "    for r in range(len(dataset)):\n",
    "        english = dataset['translation'][r]['en'].split()\n",
    "        hindi = dataset['translation'][r]['hi'].split()\n",
    "        for n in range(1,4):\n",
    "            ngram = (n,dataset['translation'][r]['en'],dataset['translation'][r]['hi'])\n",
    "            if (n==1):\n",
    "                 ngrams[ngram] = []\n",
    "            else:\n",
    "                ngrams[ngram] = ngrams[(n-1,dataset['translation'][r]['en'],dataset['translation'][r]['hi'])][::]\n",
    "            for i in range(len(english)-n):\n",
    "                ngrams[ngram].append(\"_\".join(english[i:i+n]))\n",
    "            for j in range(len(hindi)-n):\n",
    "                ngrams[ngram].append(\"_\".join(hindi[j:j+n]))\n",
    "            if n==3:\n",
    "                cum_list = ngrams[ngram]\n",
    "                #suffle cum_list\n",
    "                random.shuffle(cum_list)\n",
    "                created_texts.append(\" \".join(cum_list))\n",
    "\n",
    "\n",
    "    return created_texts\n",
    "print(dataset)\n",
    "print(cummulative_ngrams(dataset))\n",
    "                   \n",
    "                    "
   ]
  },
  {
   "cell_type": "code",
   "execution_count": null,
   "metadata": {},
   "outputs": [],
   "source": []
  }
 ],
 "metadata": {
  "kernelspec": {
   "display_name": "base",
   "language": "python",
   "name": "python3"
  },
  "language_info": {
   "codemirror_mode": {
    "name": "ipython",
    "version": 3
   },
   "file_extension": ".py",
   "mimetype": "text/x-python",
   "name": "python",
   "nbconvert_exporter": "python",
   "pygments_lexer": "ipython3",
   "version": "3.10.9"
  },
  "orig_nbformat": 4
 },
 "nbformat": 4,
 "nbformat_minor": 2
}
