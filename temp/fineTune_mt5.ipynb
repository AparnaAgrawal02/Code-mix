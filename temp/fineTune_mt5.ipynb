{
 "cells": [
  {
   "cell_type": "code",
   "execution_count": 18,
   "metadata": {},
   "outputs": [],
   "source": [
    "import numpy\n",
    "# fine tune mt5 on dataset\n",
    "from transformers import MT5ForConditionalGeneration, MT5Tokenizer\n",
    "from transformers import Trainer, TrainingArguments\n",
    "from datasets import load_dataset\n",
    "from transformers import DataCollatorForSeq2Seq\n",
    "from transformers import Seq2SeqTrainer, Seq2SeqTrainingArguments\n",
    "from transformers import AutoTokenizer, AutoModelForSeq2SeqLM\n",
    "from simpletransformers.t5 import T5Model, T5Args\n",
    "from transformers import pipeline\n",
    "#import train split\n",
    "import pandas as pd\n",
    "from sklearn.model_selection import train_test_split\n",
    "import sklearn.preprocessing\n",
    "import torch\n",
    "import torch.nn as nn\n",
    "import klib\n",
    "import os"
   ]
  },
  {
   "cell_type": "code",
   "execution_count": 19,
   "metadata": {},
   "outputs": [
    {
     "data": {
      "text/html": [
       "<div>\n",
       "<style scoped>\n",
       "    .dataframe tbody tr th:only-of-type {\n",
       "        vertical-align: middle;\n",
       "    }\n",
       "\n",
       "    .dataframe tbody tr th {\n",
       "        vertical-align: top;\n",
       "    }\n",
       "\n",
       "    .dataframe thead th {\n",
       "        text-align: right;\n",
       "    }\n",
       "</style>\n",
       "<table border=\"1\" class=\"dataframe\">\n",
       "  <thead>\n",
       "    <tr style=\"text-align: right;\">\n",
       "      <th></th>\n",
       "      <th>Sentence</th>\n",
       "      <th>English_Translation</th>\n",
       "      <th>prefix</th>\n",
       "    </tr>\n",
       "  </thead>\n",
       "  <tbody>\n",
       "    <tr>\n",
       "      <th>0</th>\n",
       "      <td>@someUSER congratulations on you celebrating b...</td>\n",
       "      <td>@some users congratulate you for celebrating B...</td>\n",
       "      <td>translate English to Hinglish:</td>\n",
       "    </tr>\n",
       "    <tr>\n",
       "      <th>1</th>\n",
       "      <td>@LoKarDi_RT uske liye toh bahot kuch karna pad...</td>\n",
       "      <td>@Lokardi_ rat we should a lot more for that, b...</td>\n",
       "      <td>translate English to Hinglish:</td>\n",
       "    </tr>\n",
       "    <tr>\n",
       "      <th>2</th>\n",
       "      <td>@slimswamy yehi to hum semjhane ki koshish kar...</td>\n",
       "      <td>@Slimswami ehi, this is what i'm expecting you...</td>\n",
       "      <td>translate English to Hinglish:</td>\n",
       "    </tr>\n",
       "    <tr>\n",
       "      <th>3</th>\n",
       "      <td>@DramebaazKudi cake kaha hai ??</td>\n",
       "      <td>@Where is Dramebajakudi where is the cake?</td>\n",
       "      <td>translate English to Hinglish:</td>\n",
       "    </tr>\n",
       "    <tr>\n",
       "      <th>4</th>\n",
       "      <td>@someUSER i'm in hawaii at the moment .  home ...</td>\n",
       "      <td>@some user Don't want to come home next friday...</td>\n",
       "      <td>translate English to Hinglish:</td>\n",
       "    </tr>\n",
       "  </tbody>\n",
       "</table>\n",
       "</div>"
      ],
      "text/plain": [
       "                                            Sentence  \\\n",
       "0  @someUSER congratulations on you celebrating b...   \n",
       "1  @LoKarDi_RT uske liye toh bahot kuch karna pad...   \n",
       "2  @slimswamy yehi to hum semjhane ki koshish kar...   \n",
       "3                    @DramebaazKudi cake kaha hai ??   \n",
       "4  @someUSER i'm in hawaii at the moment .  home ...   \n",
       "\n",
       "                                 English_Translation  \\\n",
       "0  @some users congratulate you for celebrating B...   \n",
       "1  @Lokardi_ rat we should a lot more for that, b...   \n",
       "2  @Slimswami ehi, this is what i'm expecting you...   \n",
       "3         @Where is Dramebajakudi where is the cake?   \n",
       "4  @some user Don't want to come home next friday...   \n",
       "\n",
       "                            prefix  \n",
       "0  translate English to Hinglish:   \n",
       "1  translate English to Hinglish:   \n",
       "2  translate English to Hinglish:   \n",
       "3  translate English to Hinglish:   \n",
       "4  translate English to Hinglish:   "
      ]
     },
     "execution_count": 19,
     "metadata": {},
     "output_type": "execute_result"
    }
   ],
   "source": [
    "#load dataset\n",
    "#English-Hindi code-mixed parallel corpus.csv\n",
    "df = pd.read_csv('PHNC/English-Hindi code-mixed parallel corpus.csv')\n",
    "df = df.dropna()\n",
    "df = df.reset_index(drop=True)\n",
    "# add column for prefix\n",
    "df['prefix'] = 'translate English to Hinglish: '\n",
    "df.head()\n"
   ]
  },
  {
   "cell_type": "code",
   "execution_count": 20,
   "metadata": {},
   "outputs": [
    {
     "name": "stdout",
     "output_type": "stream",
     "text": [
      "Shape of cleaned data: (13737, 2) - Remaining NAs: 0\n",
      "\n",
      "\n",
      "Dropped rows: 1\n",
      "     of which 1 duplicates. (Rows (first 150 shown): [1091])\n",
      "\n",
      "Dropped columns: 1\n",
      "     of which 1 single valued.     Columns: ['prefix']\n",
      "Dropped missing values: 0\n",
      "Reduced memory by at least: 0.1 MB (-32.26%)\n",
      "\n"
     ]
    }
   ],
   "source": [
    "#data cleaning \n",
    "\n",
    "df=klib.data_cleaning(df)"
   ]
  },
  {
   "cell_type": "code",
   "execution_count": 21,
   "metadata": {},
   "outputs": [
    {
     "name": "stdout",
     "output_type": "stream",
     "text": [
      "8791\n",
      "2198\n",
      "2748\n"
     ]
    }
   ],
   "source": [
    "#split train, val, test\n",
    "# convert df  so that it can be used by transformers\n",
    "\n",
    "\n",
    "train, test = train_test_split(df, test_size=0.2, random_state=42)\n",
    "train, val = train_test_split(train, test_size=0.2, random_state=42)\n",
    "train = train.reset_index(drop=True)\n",
    "val = val.reset_index(drop=True)\n",
    "test = test.reset_index(drop=True)\n",
    "\n",
    "#print lens\n",
    "print(len(train))\n",
    "print(len(val))\n",
    "print(len(test))\n",
    "\n",
    "#save train, val, test\n",
    "train.to_csv('train.csv', index=False)\n",
    "val.to_csv('val.csv', index=False)\n",
    "test.to_csv('test.csv', index=False)\n"
   ]
  },
  {
   "cell_type": "code",
   "execution_count": 22,
   "metadata": {},
   "outputs": [
    {
     "data": {
      "text/plain": [
       "Index(['sentence', 'english_translation'], dtype='object')"
      ]
     },
     "execution_count": 22,
     "metadata": {},
     "output_type": "execute_result"
    }
   ],
   "source": [
    "df.columns"
   ]
  },
  {
   "cell_type": "code",
   "execution_count": 23,
   "metadata": {},
   "outputs": [
    {
     "data": {
      "text/plain": [
       "0"
      ]
     },
     "execution_count": 23,
     "metadata": {},
     "output_type": "execute_result"
    }
   ],
   "source": [
    "#tokenize\n",
    "tokenizer = MT5Tokenizer.from_pretrained(\"google/mt5-small\")\n",
    "tokenizer.add_special_tokens({'additional_special_tokens': ['<sep>']})\n",
    "tokenizer.add_special_tokens({'additional_special_tokens': ['<pad>']})\n",
    "tokenizer.add_special_tokens({'additional_special_tokens': ['<s>']})\n",
    "tokenizer.add_special_tokens({'additional_special_tokens': ['</s>']})\n",
    "tokenizer.add_special_tokens({'additional_special_tokens': ['<unk>']})\n",
    "\n"
   ]
  },
  {
   "cell_type": "code",
   "execution_count": 24,
   "metadata": {},
   "outputs": [
    {
     "data": {
      "text/plain": [
       "0        @someUSER congratulations on you celebrating b...\n",
       "1        @LoKarDi_RT uske liye toh bahot kuch karna pad...\n",
       "2        @slimswamy yehi to hum semjhane ki koshish kar...\n",
       "3                          @DramebaazKudi cake kaha hai ??\n",
       "4        @someUSER i'm in hawaii at the moment .  home ...\n",
       "                               ...                        \n",
       "13732    Dr Kumar Vishwas: \"Koi deewana kehta hai.. koi...\n",
       "13733    Me: Aaj kuch toofani karte hai.\n",
       "\n",
       "Mom: Pani ki ...\n",
       "13734    Pyar mangi to Jaan dengi,milk mango to kher de...\n",
       "13735     @imcomplicated__ kaale kaale baal gaal gore gore\n",
       "13736                            Ye sab aunty'on ke saath?\n",
       "Name: sentence, Length: 13737, dtype: string"
      ]
     },
     "execution_count": 24,
     "metadata": {},
     "output_type": "execute_result"
    }
   ],
   "source": [
    "df['sentence']"
   ]
  },
  {
   "cell_type": "code",
   "execution_count": 25,
   "metadata": {},
   "outputs": [],
   "source": [
    "maxlen = 512\n",
    "def tokenize_df(df):\n",
    "    input = tokenizer(df['sentence'], padding='max_length', truncation=True, return_tensors=\"pt\", max_length=maxlen)\n",
    "    target = tokenizer(df['english_translation'], padding='max_length', truncation=True, return_tensors=\"pt\", max_length=maxlen)\n",
    "    input_ids = input['input_ids']\n",
    "    attention_mask = input['attention_mask']\n",
    "    target_ids = target['input_ids']\n",
    "    target_attention_mask = target['attention_mask']\n",
    "    decoder_input_ids = target_ids.clone()\n",
    "    #convert to tensors\n",
    "    input_ids = torch.tensor(input_ids).squeeze()\n",
    "    attention_mask = torch.tensor(attention_mask).squeeze()\n",
    "    target_ids = torch.tensor(target_ids).squeeze()\n",
    "    target_attention_mask = torch.tensor(target_attention_mask).squeeze()\n",
    "   # decoder_input_ids = torch.tensor(decoder_input_ids)\n",
    "    \n",
    "    return {\n",
    "        'input_ids': input_ids,\n",
    "        'attention_mask': attention_mask,\n",
    "        'labels': target_ids,\n",
    "        #'decoder_input_ids': decoder_input_ids,\n",
    "        #'decoder_attention_mask': target_attention_mask\n",
    "    }\n"
   ]
  },
  {
   "cell_type": "code",
   "execution_count": 26,
   "metadata": {},
   "outputs": [
    {
     "name": "stdout",
     "output_type": "stream",
     "text": [
      "Downloading and preparing dataset csv/default to /home/aparna/.cache/huggingface/datasets/csv/default-d14bec49ba97cf5b/0.0.0/6b34fb8fcf56f7c8ba51dc895bfa2bfbe43546f190a60fcf74bb5e8afdcc2317...\n"
     ]
    },
    {
     "name": "stderr",
     "output_type": "stream",
     "text": [
      "Downloading data files: 100%|██████████| 1/1 [00:00<00:00, 1462.96it/s]\n",
      "Extracting data files: 100%|██████████| 1/1 [00:00<00:00, 1016.06it/s]\n",
      "/home/aparna/miniconda3/lib/python3.10/site-packages/datasets/download/streaming_download_manager.py:776: FutureWarning: the 'mangle_dupe_cols' keyword is deprecated and will be removed in a future version. Please take steps to stop the use of 'mangle_dupe_cols'\n",
      "  return pd.read_csv(xopen(filepath_or_buffer, \"rb\", use_auth_token=use_auth_token), **kwargs)\n"
     ]
    },
    {
     "name": "stdout",
     "output_type": "stream",
     "text": [
      "Dataset csv downloaded and prepared to /home/aparna/.cache/huggingface/datasets/csv/default-d14bec49ba97cf5b/0.0.0/6b34fb8fcf56f7c8ba51dc895bfa2bfbe43546f190a60fcf74bb5e8afdcc2317. Subsequent calls will reuse this data.\n"
     ]
    },
    {
     "name": "stderr",
     "output_type": "stream",
     "text": [
      "100%|██████████| 1/1 [00:00<00:00, 653.73it/s]\n"
     ]
    },
    {
     "name": "stdout",
     "output_type": "stream",
     "text": [
      "Downloading and preparing dataset csv/default to /home/aparna/.cache/huggingface/datasets/csv/default-575cab9bdc820630/0.0.0/6b34fb8fcf56f7c8ba51dc895bfa2bfbe43546f190a60fcf74bb5e8afdcc2317...\n"
     ]
    },
    {
     "name": "stderr",
     "output_type": "stream",
     "text": [
      "Downloading data files: 100%|██████████| 1/1 [00:00<00:00, 5282.50it/s]\n",
      "Extracting data files: 100%|██████████| 1/1 [00:00<00:00, 1038.19it/s]\n",
      "/home/aparna/miniconda3/lib/python3.10/site-packages/datasets/download/streaming_download_manager.py:776: FutureWarning: the 'mangle_dupe_cols' keyword is deprecated and will be removed in a future version. Please take steps to stop the use of 'mangle_dupe_cols'\n",
      "  return pd.read_csv(xopen(filepath_or_buffer, \"rb\", use_auth_token=use_auth_token), **kwargs)\n"
     ]
    },
    {
     "name": "stdout",
     "output_type": "stream",
     "text": [
      "Dataset csv downloaded and prepared to /home/aparna/.cache/huggingface/datasets/csv/default-575cab9bdc820630/0.0.0/6b34fb8fcf56f7c8ba51dc895bfa2bfbe43546f190a60fcf74bb5e8afdcc2317. Subsequent calls will reuse this data.\n"
     ]
    },
    {
     "name": "stderr",
     "output_type": "stream",
     "text": [
      "100%|██████████| 1/1 [00:00<00:00, 585.14it/s]\n"
     ]
    },
    {
     "name": "stdout",
     "output_type": "stream",
     "text": [
      "Downloading and preparing dataset csv/default to /home/aparna/.cache/huggingface/datasets/csv/default-bc54b4b173ba73ef/0.0.0/6b34fb8fcf56f7c8ba51dc895bfa2bfbe43546f190a60fcf74bb5e8afdcc2317...\n"
     ]
    },
    {
     "name": "stderr",
     "output_type": "stream",
     "text": [
      "Downloading data files: 100%|██████████| 1/1 [00:00<00:00, 4928.68it/s]\n",
      "Extracting data files: 100%|██████████| 1/1 [00:00<00:00, 786.04it/s]\n",
      "/home/aparna/miniconda3/lib/python3.10/site-packages/datasets/download/streaming_download_manager.py:776: FutureWarning: the 'mangle_dupe_cols' keyword is deprecated and will be removed in a future version. Please take steps to stop the use of 'mangle_dupe_cols'\n",
      "  return pd.read_csv(xopen(filepath_or_buffer, \"rb\", use_auth_token=use_auth_token), **kwargs)\n"
     ]
    },
    {
     "name": "stdout",
     "output_type": "stream",
     "text": [
      "Dataset csv downloaded and prepared to /home/aparna/.cache/huggingface/datasets/csv/default-bc54b4b173ba73ef/0.0.0/6b34fb8fcf56f7c8ba51dc895bfa2bfbe43546f190a60fcf74bb5e8afdcc2317. Subsequent calls will reuse this data.\n"
     ]
    },
    {
     "name": "stderr",
     "output_type": "stream",
     "text": [
      "100%|██████████| 1/1 [00:00<00:00, 710.78it/s]\n",
      "/tmp/ipykernel_10881/847606311.py:11: UserWarning: To copy construct from a tensor, it is recommended to use sourceTensor.clone().detach() or sourceTensor.clone().detach().requires_grad_(True), rather than torch.tensor(sourceTensor).\n",
      "  input_ids = torch.tensor(input_ids).squeeze()\n",
      "/tmp/ipykernel_10881/847606311.py:12: UserWarning: To copy construct from a tensor, it is recommended to use sourceTensor.clone().detach() or sourceTensor.clone().detach().requires_grad_(True), rather than torch.tensor(sourceTensor).\n",
      "  attention_mask = torch.tensor(attention_mask).squeeze()\n",
      "/tmp/ipykernel_10881/847606311.py:13: UserWarning: To copy construct from a tensor, it is recommended to use sourceTensor.clone().detach() or sourceTensor.clone().detach().requires_grad_(True), rather than torch.tensor(sourceTensor).\n",
      "  target_ids = torch.tensor(target_ids).squeeze()\n",
      "/tmp/ipykernel_10881/847606311.py:14: UserWarning: To copy construct from a tensor, it is recommended to use sourceTensor.clone().detach() or sourceTensor.clone().detach().requires_grad_(True), rather than torch.tensor(sourceTensor).\n",
      "  target_attention_mask = torch.tensor(target_attention_mask).squeeze()\n"
     ]
    }
   ],
   "source": [
    "#tokenize train, val, test\n",
    "train = load_dataset('csv', data_files='train.csv')\n",
    "val = load_dataset('csv', data_files='val.csv')\n",
    "test = load_dataset('csv', data_files='test.csv')\n",
    "train = train.map(tokenize_df, batched=True, batch_size=128,remove_columns=['sentence','english_translation'])\n",
    "val = val.map(tokenize_df, batched=True, batch_size=128,remove_columns=['sentence','english_translation'])\n",
    "test = test.map(tokenize_df, batched=True, batch_size=128,remove_columns=['sentence','english_translation'])\n"
   ]
  },
  {
   "cell_type": "code",
   "execution_count": 27,
   "metadata": {},
   "outputs": [
    {
     "name": "stdout",
     "output_type": "stream",
     "text": [
      "512\n",
      "512\n"
     ]
    }
   ],
   "source": [
    "train\n",
    "#get sample \n",
    "sample = train['train'][0]\n",
    "sample\n",
    "#print shapes\n",
    "print(len(sample['input_ids']))\n",
    "print(len(sample['attention_mask']))\n",
    "#print(len(sample['decoder_input_ids']))\n",
    "#print(len(sample['decoder_attention_mask']))\n"
   ]
  },
  {
   "cell_type": "code",
   "execution_count": null,
   "metadata": {},
   "outputs": [],
   "source": []
  },
  {
   "cell_type": "code",
   "execution_count": null,
   "metadata": {},
   "outputs": [],
   "source": []
  },
  {
   "cell_type": "code",
   "execution_count": 28,
   "metadata": {},
   "outputs": [
    {
     "data": {
      "text/plain": [
       "DatasetDict({\n",
       "    train: Dataset({\n",
       "        features: ['input_ids', 'attention_mask', 'labels'],\n",
       "        num_rows: 2198\n",
       "    })\n",
       "})"
      ]
     },
     "execution_count": 28,
     "metadata": {},
     "output_type": "execute_result"
    }
   ],
   "source": [
    "val"
   ]
  },
  {
   "cell_type": "code",
   "execution_count": 29,
   "metadata": {},
   "outputs": [],
   "source": [
    "# from torch.utils.data import DataLoader, RandomSampler, SequentialSampler\n",
    "# batch_size = 8\n",
    "# train_dataloader = DataLoader(\n",
    "\n",
    "#             train,  # The training samples.\n",
    "\n",
    "#             sampler = RandomSampler(train), # Select batches randomly\n",
    "\n",
    "#             batch_size = batch_size # Trains with this batch size.\n",
    "\n",
    "#         )\n",
    "\n",
    "# validation_dataloader = DataLoader(\n",
    "\n",
    "#             val, # The validation samples.\n",
    "\n",
    "#             sampler = SequentialSampler(val), # Pull out batches sequentially.\n",
    "\n",
    "#             batch_size = batch_size # Evaluate with this batch size.\n",
    "\n",
    "#         )\n",
    "\n",
    "# test_dataloader = DataLoader(\n",
    "\n",
    "\n",
    "#             test, # The validation samples. \n",
    "\n",
    "#             sampler = SequentialSampler(test), # Pull out batches sequentially.\n",
    "\n",
    "#             batch_size = batch_size # Evaluate with this batch size.\n",
    "\n",
    "#         )\n",
    "\n",
    "# #test train data loader\n",
    "# for batch in train_dataloader:\n",
    "\n",
    "#     print(batch)\n",
    "\n",
    "#     break\n"
   ]
  },
  {
   "cell_type": "code",
   "execution_count": 30,
   "metadata": {},
   "outputs": [],
   "source": [
    "import evaluate\n",
    "import numpy as np\n",
    "from nltk.tokenize import RegexpTokenizer\n",
    "\n",
    "rouge_metric = evaluate.load(\"rouge\")\n",
    "\n",
    "def tokenize_sentence(arg):\n",
    "    encoded_arg = MT5Tokenizer(arg)\n",
    "    return MT5Tokenizer.convert_ids_to_tokens(encoded_arg.input_ids)\n",
    "\n",
    "def metrics_func(eval_arg):\n",
    "    preds, labels = eval_arg\n",
    "    # Replace -100\n",
    "    labels = np.where(labels != -100, labels, MT5Tokenizer.pad_token_id)\n",
    "    # Convert id tokens to text\n",
    "    text_preds = MT5Tokenizer.batch_decode(preds, skip_special_tokens=True)\n",
    "    text_labels = MT5Tokenizer.batch_decode(labels, skip_special_tokens=True)\n",
    "    # Insert a line break (\\n) in each sentence for ROUGE scoring\n",
    "    # (Note : Please change this code, when you perform on other languages except for Japanese)\n",
    "    text_preds = [(p if p.endswith((\"!\", \"！\", \"?\", \"？\", \"。\")) else p + \"。\") for p in text_preds]\n",
    "    text_labels = [(l if l.endswith((\"!\", \"！\", \"?\", \"？\", \"。\")) else l + \"。\") for l in text_labels]\n",
    "    sent_tokenizer_jp = RegexpTokenizer(u'[^!！?？。]*[!！?？。]')\n",
    "    text_preds = [\"\\n\".join(np.char.strip(sent_tokenizer_jp.tokenize(p))) for p in text_preds]\n",
    "    text_labels = [\"\\n\".join(np.char.strip(sent_tokenizer_jp.tokenize(l))) for l in text_labels]\n",
    "    # compute ROUGE score with custom tokenization\n",
    "    return rouge_metric.compute(\n",
    "        predictions=text_preds,\n",
    "        references=text_labels,\n",
    "        tokenizer=tokenize_sentence\n",
    "    )"
   ]
  },
  {
   "cell_type": "code",
   "execution_count": 31,
   "metadata": {},
   "outputs": [
    {
     "name": "stderr",
     "output_type": "stream",
     "text": [
      "  0%|          | 3/2740 [12:55<196:31:16, 258.49s/it]\n"
     ]
    }
   ],
   "source": [
    "# finetuen mt5\n",
    "os.environ[\"WANDB_DISABLED\"] = \"true\"\n",
    "model = MT5ForConditionalGeneration.from_pretrained(\"google/mt5-small\")\n",
    "model.resize_token_embeddings(len(tokenizer))\n",
    "\n",
    "#training args\n",
    "\n",
    "\n",
    "training_args = Seq2SeqTrainingArguments(\n",
    "  output_dir = \"mt5-codemixed\",\n",
    "  log_level = \"error\",\n",
    "  num_train_epochs = 10,\n",
    "  learning_rate = 5e-4,\n",
    "  lr_scheduler_type = \"linear\",\n",
    "  warmup_steps = 90,\n",
    "  optim = \"adafactor\",\n",
    "  weight_decay = 0.01,\n",
    "  per_device_train_batch_size = 2,\n",
    "  per_device_eval_batch_size = 1,\n",
    "  gradient_accumulation_steps = 16,\n",
    "  evaluation_strategy = \"steps\",\n",
    "  eval_steps = 100,\n",
    "  predict_with_generate=True,\n",
    "  generation_max_length = 128,\n",
    "  save_steps = 500,\n",
    "  logging_steps = 10,\n",
    "  push_to_hub = False\n",
    ")\n",
    "\n",
    "\n",
    "#trainer\n",
    "trainer = Seq2SeqTrainer(\n",
    "    model=model,                         # the instantiated 🤗 Transformers model to be trained\n",
    "    args=training_args,                  # training arguments, defined above\n",
    "    train_dataset=train[\"train\"],         # training dataset\n",
    "    eval_dataset=val[\"train\"],             # evaluation dataset\n",
    "    tokenizer=tokenizer,               # tokenizer\n",
    "    data_collator=DataCollatorForSeq2Seq(tokenizer, model=model), # data collator\n",
    "    \n",
    ")\n",
    "\n",
    "#train\n",
    "trainer.train()\n",
    "\n",
    "#save model\n",
    "trainer.save_model(\"./mt5\")"
   ]
  }
 ],
 "metadata": {
  "kernelspec": {
   "display_name": "base",
   "language": "python",
   "name": "python3"
  },
  "language_info": {
   "codemirror_mode": {
    "name": "ipython",
    "version": 3
   },
   "file_extension": ".py",
   "mimetype": "text/x-python",
   "name": "python",
   "nbconvert_exporter": "python",
   "pygments_lexer": "ipython3",
   "version": "3.10.9"
  },
  "orig_nbformat": 4
 },
 "nbformat": 4,
 "nbformat_minor": 2
}
